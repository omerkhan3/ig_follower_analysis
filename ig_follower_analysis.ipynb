{
 "cells": [
  {
   "cell_type": "code",
   "execution_count": null,
   "id": "d6be63f0-de9d-43f4-9b24-fbb4fd945477",
   "metadata": {},
   "outputs": [],
   "source": [
    "import pandas as pd\n",
    "import json\n",
    "import pprint"
   ]
  },
  {
   "cell_type": "code",
   "execution_count": null,
   "id": "02dcfb17-6fb5-4c3f-a081-0667d0de2845",
   "metadata": {},
   "outputs": [],
   "source": [
    "pp = pprint.PrettyPrinter(indent=4)"
   ]
  },
  {
   "cell_type": "code",
   "execution_count": null,
   "id": "a43590da-53d7-441e-812f-4d6dd56a4ba8",
   "metadata": {},
   "outputs": [],
   "source": [
    "follow_data_path = \"data/followers_and_following/\""
   ]
  },
  {
   "cell_type": "code",
   "execution_count": null,
   "id": "c10b1f55-8b6b-446b-baa6-ed820d8cbdad",
   "metadata": {},
   "outputs": [],
   "source": [
    "follower_df = pd.read_json(follow_data_path + \"followers_1.json\")"
   ]
  },
  {
   "cell_type": "code",
   "execution_count": null,
   "id": "6a197c8f-07d5-45a7-b955-23caebd94680",
   "metadata": {},
   "outputs": [],
   "source": [
    "def get_follower_username(row):\n",
    "    return(row['string_list_data'][0]['value'])\n",
    "\n",
    "follower_df['username'] = follower_df.apply(get_follower_username, axis=1)"
   ]
  },
  {
   "cell_type": "code",
   "execution_count": null,
   "id": "a80a25a3-9514-4e76-8237-a19f86afb6c4",
   "metadata": {},
   "outputs": [],
   "source": [
    "following_df = pd.read_json(follow_data_path + \"following.json\")"
   ]
  },
  {
   "cell_type": "code",
   "execution_count": null,
   "id": "3a937b9d-1c7e-4f3c-81f2-0a109c72a6df",
   "metadata": {},
   "outputs": [],
   "source": [
    "def get_following_username(row):\n",
    "    return(row['relationships_following']['string_list_data'][0]['value'])"
   ]
  },
  {
   "cell_type": "code",
   "execution_count": null,
   "id": "b6ddeb2b-812a-4021-82b2-b34b76bc552b",
   "metadata": {},
   "outputs": [],
   "source": [
    "following_df['username'] = following_df.apply(get_following_username, axis=1)"
   ]
  },
  {
   "cell_type": "code",
   "execution_count": null,
   "id": "94dc7069-932c-472f-857b-53a21b0e20eb",
   "metadata": {},
   "outputs": [],
   "source": [
    "not_following_you_back_list = set(following_df['username']) - set(follower_df['username'])\n",
    "fan_list = set(follower_df['username']) - set(following_df['username'])"
   ]
  },
  {
   "cell_type": "code",
   "execution_count": null,
   "id": "30d8f2c5-96b0-4547-a454-970a6dee1a3c",
   "metadata": {},
   "outputs": [],
   "source": [
    "print(\"Users who you follow, but are not following you back: \")\n",
    "pp.pprint(not_following_you_back_list)"
   ]
  },
  {
   "cell_type": "code",
   "execution_count": null,
   "id": "79c09cb2-72db-4cdf-9dcf-fb1754e4e772",
   "metadata": {},
   "outputs": [],
   "source": [
    "print(\"Your fans (Users who follow you but you don't follow back):\")\n",
    "pp.pprint(fan_list)"
   ]
  }
 ],
 "metadata": {
  "kernelspec": {
   "display_name": "Python 3 (ipykernel)",
   "language": "python",
   "name": "python3"
  },
  "language_info": {
   "codemirror_mode": {
    "name": "ipython",
    "version": 3
   },
   "file_extension": ".py",
   "mimetype": "text/x-python",
   "name": "python",
   "nbconvert_exporter": "python",
   "pygments_lexer": "ipython3",
   "version": "3.9.16"
  }
 },
 "nbformat": 4,
 "nbformat_minor": 5
}
